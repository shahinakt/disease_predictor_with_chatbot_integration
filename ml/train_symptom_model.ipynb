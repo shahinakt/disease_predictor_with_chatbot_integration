{
 "cells": [
  {
   "cell_type": "code",
   "execution_count": null,
   "id": "18565f4b",
   "metadata": {
    "vscode": {
     "languageId": "plaintext"
    }
   },
   "outputs": [],
   "source": [
    "{\n",
    " \"cells\": [\n",
    "  {\n",
    "   \"cell_type\": \"code\",\n",
    "   \"execution_count\": 1,\n",
    "   \"id\": \"main\",\n",
    "   \"metadata\": {},\n",
    "   \"outputs\": [],\n",
    "   \"source\": [\n",
    "    \"import pandas as pd\\nimport joblib\\nfrom sklearn.model_selection import train_test_split\\nfrom sklearn.ensemble import RandomForestClassifier\\nfrom sklearn.preprocessing import MultiLabelBinarizer\\n\",\n",
    "    \"\\n\",\n",
    "    \"# Load sample data (placeholder; replace with real data)\\n\",\n",
    "    \"data = pd.read_csv('../backend/data/symptoms.csv')  # Assume columns: symptoms (list), disease\\n\",\n",
    "    \"data['symptoms'] = data['symptoms'].apply(lambda x: x.split(','))  # Convert string to list\\n\",\n",
    "    \"\\n\",\n",
    "    \"# Prepare data\\n\",\n",
    "    \"mlb = MultiLabelBinarizer()\\n\",\n",
    "    \"symptoms_encoded = mlb.fit_transform(data['symptoms'])\\n\",\n",
    "    \"X = symptoms_encoded  # Features\\n\",\n",
    "    \"y = data['disease']  # Labels include mental health ones like 'depression', 'suicidal_ideation'\\n\",\n",
    "    \"\\n\",\n",
    "    \"# Split and train a toy model\\n\",\n",
    "    \"X_train, X_test, y_train, y_test = train_test_split(X, y, test_size=0.2, random_state=42)\\n\",\n",
    "    \"model = RandomForestClassifier()\\n\",\n",
    "    \"model.fit(X_train, y_train)\\n\",\n",
    "    \"\\n\",\n",
    "    \"# Save the model\\n\",\n",
    "    \"joblib.dump(model, '../backend/ml_models/symptom_model.pkl')\\n\",\n",
    "    \"print('Model trained and saved as symptom_model.pkl')\"\n",
    "   ]\n",
    "  }\n",
    " ],\n",
    " \"metadata\": {\n",
    "  \"kernelspec\": {\n",
    "   \"display_name\": \"Python 3.10\",\n",
    "   \"language\": \"python\",\n",
    "   \"name\": \"python3\"\n",
    "  },\n",
    "  \"language_info\": {\n",
    "   \"codemirror_mode\": {\n",
    "    \"name\": \"ipython\",\n",
    "    \"version\": 3\n",
    "   },\n",
    "   \"file_extension\": \".py\",\n",
    "   \"mimetype\": \"text/x-python\",\n",
    "   \"name\": \"python\",\n",
    "   \"nbconvert_exporter\": \"python\",\n",
    "   \"pygments_lexer\": \"ipython3\",\n",
    "   \"version\": \"3.10.0\"\n",
    "  }\n",
    " },\n",
    " \"nbformat\": 4,\n",
    " \"nbformat_minor\": 5\n",
    "}"
   ]
  }
 ],
 "metadata": {
  "language_info": {
   "name": "python"
  }
 },
 "nbformat": 4,
 "nbformat_minor": 5
}
